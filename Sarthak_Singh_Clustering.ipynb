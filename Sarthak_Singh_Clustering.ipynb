import pandas as pd
import numpy as np
from sklearn.preprocessing import StandardScaler
from sklearn.cluster import KMeans
from sklearn.metrics import silhouette_score
from sklearn.metrics import davies_bouldin_score
import matplotlib.pyplot as plt
import seaborn as sns

customers = pd.read_csv('Customers.csv')
transactions = pd.read_csv('Transactions.csv')

transaction_summary = transactions.groupby('CustomerID').agg({
    'TotalValue': 'sum',
    'Quantity': 'sum',
    'TransactionID': 'count'
}).reset_index()

data = pd.merge(customers, transaction_summary, on='CustomerID', how='inner')

data['SignupDate'] = pd.to_datetime(data['SignupDate'])
data['DaysSinceSignup'] = (pd.Timestamp.now() - data['SignupDate']).dt.days

data = data.drop(['SignupDate', 'CustomerName'], axis=1)

data['Region'] = data['Region'].astype('category').cat.codes

scaler = StandardScaler()
scaled_data = scaler.fit_transform(data.drop('CustomerID', axis=1))

db_scores = []
silhouette_scores = []
cluster_range = range(2, 11)

for n_clusters in cluster_range:
    kmeans = KMeans(n_clusters=n_clusters, random_state=42)
    labels = kmeans.fit_predict(scaled_data)
    
    db_index = davies_bouldin_score(scaled_data, labels)
    silhouette_avg = silhouette_score(scaled_data, labels)
    
    db_scores.append(db_index)
    silhouette_scores.append(silhouette_avg)

plt.figure(figsize=(12, 6))
plt.plot(cluster_range, db_scores, marker='o', label='DB Index', color='red')
plt.plot(cluster_range, silhouette_scores, marker='o', label='Silhouette Score', color='blue')
plt.xlabel('Number of Clusters')
plt.ylabel('Score')
plt.title('DB Index and Silhouette Score vs Number of Clusters')
plt.legend()
plt.show()

optimal_clusters = cluster_range[np.argmin(db_scores)]
kmeans = KMeans(n_clusters=optimal_clusters, random_state=42)
data['Cluster'] = kmeans.fit_predict(scaled_data)

plt.figure(figsize=(10, 6))
sns.scatterplot(x=data['DaysSinceSignup'], y=data['TotalValue'], hue=data['Cluster'], palette='tab10', s=100)
plt.title('Customer Segmentation: Clusters')
plt.xlabel('Days Since Signup')
plt.ylabel('Total Transaction Value')
plt.legend(title='Cluster')
plt.show()

final_db_index = davies_bouldin_score(scaled_data, data['Cluster'])
final_silhouette = silhouette_score(scaled_data, data['Cluster'])

data.to_csv('Customer_Segments.csv', index=False)
print(f"Clustering results saved to 'Customer_Segments.csv'")
print(f"Optimal Number of Clusters: {optimal_clusters}")
print(f"DB Index for Optimal Clusters: {final_db_index}")
print(f"Silhouette Score for Optimal Clusters: {final_silhouette}")
